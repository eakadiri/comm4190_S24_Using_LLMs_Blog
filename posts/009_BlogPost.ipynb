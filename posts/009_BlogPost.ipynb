{
 "cells": [
  {
   "cell_type": "markdown",
   "id": "b3f8942c-a859-44a1-a769-f3fb8a1b2108",
   "metadata": {},
   "source": [
    "---\n",
    "title: \"Blog Post 9 : Artificial Intelligence in School Security: Enhancements and Ethical Considerations\"\n",
    "description: \"AI in Educational Safety\"\n",
    "author: \"Ebunoluwa Akadiri\"\n",
    "date: \"05/13/2024\"\n",
    "categories:\n",
    "  - AI\n",
    "  - Education\n",
    "  - Safety\n",
    "---"
   ]
  },
  {
   "cell_type": "markdown",
   "id": "91706b12-0a64-4ec9-b5e6-d260dbb4be8e",
   "metadata": {},
   "source": [
    "# Artificial Intelligence in School Security: Enhancements and Ethical Considerations\n",
    "\n",
    "As schools across the United States increasingly turn to technology to bolster security measures, the introduction of artificial intelligence (AI) into this domain marks a significant shift in the approach to ensuring the safety of students and staff. With recent legislative moves in states like Kansas and technological deployments in Roanoke, Virginia, AI’s role in educational environments is becoming more prominent and its implications more significant.\n",
    "\n",
    "## AI Enhancements in School Security\n",
    "\n",
    "In Kansas, a legislative proposal suggests allocating $5 million in grants for schools to install surveillance cameras equipped with AI capable of detecting firearms. This technology, spearheaded by companies like ZeroEyes, uses AI to analyze video feeds in real-time, identify guns, and alert authorities before a threat escalates. ZeroEyes, founded by military veterans, has already been implemented in some schools, where it monitors video feeds and, upon detecting a gun, alerts both the on-site security and local law enforcement.\n",
    "\n",
    "Similarly, in Roanoke, Virginia, schools are utilizing AI technology from Evolv Technology which speeds up the process of security screening. Unlike traditional metal detectors, Evolv’s system uses AI to screen large groups quickly, detecting potential threats without the typical delays caused by individual searches. This system is particularly beneficial for large events like sports games, where quick and efficient screening is essential.\n",
    "\n",
    "## The Technology at Work\n",
    "\n",
    "The AI systems in place perform sophisticated functions:\n",
    "- **ZeroEyes**: This system integrates with existing security cameras to monitor video feeds for visible guns. If a gun is detected, the system alerts an operations center staffed by former law enforcement and military personnel who can assess the threat and coordinate a swift response.\n",
    "- **Evolv Technology**: This AI-powered security screening system can process up to 3,600 individuals per hour, detecting not just guns but other potential threats without the need for physical searches.\n",
    "\n",
    "## Ethical and Practical Considerations\n",
    "\n",
    "The deployment of artificial intelligence in school security systems is a development that brings with it both immense promise and significant challenges. As I reflect on the ethical implications and practical applications of such technology, several key thoughts and concerns come to mind.\n",
    "\n",
    "The Promise of Prevention: The primary appeal of using AI, such as ZeroEyes or Evolv Technology, in schools is undoubtedly its potential to prevent violent incidents. The technology's ability to detect threats quickly and accurately could be a game-changer in mitigating risks before they escalate into tragedies. This proactive approach to security is not just innovative but could save lives, making it a compelling proposition.\n",
    "\n",
    "Privacy Concerns: However, the implementation of AI systems for surveillance raises serious privacy issues. Schools are not just institutions of learning; they are spaces where young individuals grow and develop personal and social identities. The presence of constant surveillance could stifle this personal development, creating an environment of watchfulness rather than one of trust. The psychological impact of being monitored continuously is not trivial and needs careful consideration.\n",
    "\n",
    "Technological Dependence: There's also the concern of becoming overly dependent on technology. While AI can augment security measures, it shouldn't replace human oversight and intuition. Technology can fail, be manipulated, or misinterpret data, leading to false positives or, worse, failures in detecting actual threats. The human element in security—judgment, experience, and intuition—remains irreplaceable and should be integrated with technological tools, not sidelined by them.\n",
    "\n",
    "Ethical Deployment: Moreover, the ethical deployment of AI in schools necessitates transparency and accountability. Stakeholders, including students, parents, and teachers, should be informed about what the AI can and cannot do, what data it collects, how long this data is stored, and who has access to it. There should be clear guidelines and regulations governing these aspects to prevent misuse of the data and to protect the rights of all individuals involved.\n",
    "\n",
    "## Legislative and Community Responses\n",
    "\n",
    "The legislative push to implement these technologies often includes specific criteria that may favor certain vendors, as seen in Kansas’ legislation tailored potentially to suit ZeroEyes. This has sparked debate about fairness and competition in the procurement process. Community reactions have also varied, with some stakeholders expressing concerns about the implications for privacy and the potential for an over-surveillance state in schools.\n",
    "\n",
    "## Conclusion\n",
    "\n",
    "The integration of AI into school security systems reflects a broader trend towards digital solutions to real-world problems. As schools across the nation increasingly adopt these technologies, it is essential to balance innovation with ethical considerations and community engagement. Ensuring that these technologies are used responsibly and effectively will be crucial in making schools safer without compromising the rights and dignities of those they aim to protect.\n",
    "\n",
    "[ArticleOne](https://www.wsls.com/news/local/2024/05/13/how-artificial-intelligence-units-are-improving-security-in-roanoke-schools/)\n",
    "[ArticleTwo](https://apnews.com/article/school-safety-guns-artificial-intelligence-legislation-336b9ec34df538d93d4f06e34b11c9b1)"
   ]
  },
  {
   "cell_type": "code",
   "execution_count": null,
   "id": "35d44fdb-c3a4-44f9-a1e0-e30a51c8057f",
   "metadata": {},
   "outputs": [],
   "source": []
  }
 ],
 "metadata": {
  "citation-manager": {
   "items": {}
  },
  "kernelspec": {
   "display_name": "Python 3.11 (COMM4190)",
   "language": "python",
   "name": "comm4190"
  },
  "language_info": {
   "codemirror_mode": {
    "name": "ipython",
    "version": 3
   },
   "file_extension": ".py",
   "mimetype": "text/x-python",
   "name": "python",
   "nbconvert_exporter": "python",
   "pygments_lexer": "ipython3",
   "version": "3.11.7"
  }
 },
 "nbformat": 4,
 "nbformat_minor": 5
}
