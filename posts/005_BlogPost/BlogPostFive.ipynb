{
 "cells": [
  {
   "cell_type": "raw",
   "id": "fa945c75-5542-4f06-bc0f-250dd043fcb8",
   "metadata": {},
   "source": [
    "---\n",
    "title: \"Blog Post 5 : AI and Trademark Ownership in the Fashion Industry \"\n",
    "description: \"Where does AI fit into ownership rights in the Fashion Industry\"\n",
    "author: \"Ebunoluwa Akadiri\"\n",
    "date: \"04/28/2024\"\n",
    "categories:\n",
    "  - AI\n",
    "  - Fashion\n",
    "  - Trademark Ownership\n",
    "---"
   ]
  },
  {
   "cell_type": "markdown",
   "id": "47d1464f-7b7a-4dc7-b4ae-e863a824deb3",
   "metadata": {},
   "source": [
    "# AI and Trademark Ownership in the Fashion Industry"
   ]
  },
  {
   "cell_type": "markdown",
   "id": "8d38efbb-0fc7-42b6-a8e9-f8df6b85978b",
   "metadata": {},
   "source": [
    "# AI and Trademark Ownership in the Fashion Industry\n",
    "\n",
    "[Link](https://www.google.com/url?sa=t&source=web&rct=j&opi=89978449&url=https://news.bloomberglaw.com/us-law-week/generative-ai-in-fashion-design-complicates-trademark-ownership&ved=2ahUKEwjh1peosuaFAxW0D1kFHZ2nCBsQxfQBKAB6BAgLEAE&usg=AOvVaw0CbBkwX8jZLoEgL0lTf8cV)"
   ]
  }
 ],
 "metadata": {
  "citation-manager": {
   "items": {}
  },
  "kernelspec": {
   "display_name": "Python 3.11 (COMM4190)",
   "language": "python",
   "name": "comm4190"
  },
  "language_info": {
   "codemirror_mode": {
    "name": "ipython",
    "version": 3
   },
   "file_extension": ".py",
   "mimetype": "text/x-python",
   "name": "python",
   "nbconvert_exporter": "python",
   "pygments_lexer": "ipython3",
   "version": "3.11.7"
  }
 },
 "nbformat": 4,
 "nbformat_minor": 5
}
