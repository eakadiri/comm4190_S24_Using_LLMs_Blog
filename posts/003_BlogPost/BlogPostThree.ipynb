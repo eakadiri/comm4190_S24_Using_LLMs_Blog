{
 "cells": [
  {
   "cell_type": "raw",
   "id": "9b555554-fbc1-4153-8853-2b58d9050619",
   "metadata": {},
   "source": [
    "---\n",
    "title: \"Blog Post 3 : Can AI Models Speak?\"\n",
    "description: \"Examining how different types of Artificial Intelligence communicate\"\n",
    "author: \"Ebunoluwa Akadiri\"\n",
    "date: \"4/28/2024\"\n",
    "categories:\n",
    "  - AI\n",
    "  - Cross Machine Communication \n",
    "---"
   ]
  },
  {
   "cell_type": "markdown",
   "id": "90c26ab0-f2aa-446a-8bf4-7afc6eff90d9",
   "metadata": {},
   "source": [
    "# Communication Between AI Models \n",
    "\n",
    "Performing tasks without prior knowledge and describing it to another human to reproduce is a skill akin to humans, but what if AI could do the same? \n",
    "\n",
    "A team from the University of Geneva (UNIGE) has created a neural model that has this dual capacity, without prior training. Currently, natural language processing seeks to recreate this provess by developing artificual neural networks, inspired by biological nuerons and their ability to transmit electrical signals. However, researchers like Alexandre Pouget, using an exisitng model of artificial nuerons that understands, have connected it to another network with less neurons using a series of stages.\n",
    "\n",
    "**a. Stage 1:**\n",
    "\n",
    "The scientists train the network to simulate the part of the brain that enables us to perceive and receive language: Wernicke's Area.\n",
    "\n",
    "![](https://commjhub.asc.upenn.edu/user/eakadiri/files/comm4190_S24/comm4190_S24_Using_LLMs_Blog/posts/003_BlogPost/wernicke'sarea.png?_xsrf=2%7C045fa499%7C24e2f516190f952e4c68f246e8b7afc6%7C1714325228)\n",
    "\n",
    "**b. Stage 2:** \n",
    "\n",
    "The scientists train the network to simulate the part of our brain responsible for producing and articulating words: Broca's Area.\n",
    "\n",
    "![](https://commjhub.asc.upenn.edu/user/eakadiri/files/comm4190_S24/comm4190_S24_Using_LLMs_Blog/posts/003_BlogPost/Brocas-area.png?_xsrf=2%7C045fa499%7C24e2f516190f952e4c68f246e8b7afc6%7C1714325228)\n",
    "\n",
    "They then had written instructions in English transmitted to the AI.\n",
    "\n",
    "Example: Learning the difference in brightness of color of two visual stimuli by pointing to where a stimulus is perceived and describing them to a second network.\n",
    "\n",
    "\n",
    "**Implications:**\n",
    "\n",
    "This ability bring AI closer to human-like cognition, thus enhancing human-AI interaction. Growing similarities in cognitive thinking may allow humans to better understand how many AI systems arrive at their decisions, which could work to increase trust among users.\n",
    "\n",
    "This could also have implications in assistive technology. AI could be used for assisting people with disabilities with completing tasks by verbally guiding them through the process. The development of this neural model opens up new possibilities for AI technology and its integration into various aspects of society and industry.\n",
    "\n"
   ]
  },
  {
   "cell_type": "markdown",
   "id": "db4bfd58-daf4-4854-9b27-2b3b75ff9d51",
   "metadata": {},
   "source": [
    "Source: [Link](https://www.sciencedaily.com/releases/2024/03/240318142438.htm)"
   ]
  }
 ],
 "metadata": {
  "citation-manager": {
   "items": {}
  },
  "kernelspec": {
   "display_name": "Python 3.11 (COMM4190)",
   "language": "python",
   "name": "comm4190"
  },
  "language_info": {
   "codemirror_mode": {
    "name": "ipython",
    "version": 3
   },
   "file_extension": ".py",
   "mimetype": "text/x-python",
   "name": "python",
   "nbconvert_exporter": "python",
   "pygments_lexer": "ipython3",
   "version": "3.11.7"
  }
 },
 "nbformat": 4,
 "nbformat_minor": 5
}
