{
 "cells": [
  {
   "cell_type": "raw",
   "id": "1c5a9894-0bba-440c-a4ed-64c49a6c0ff8",
   "metadata": {},
   "source": [
    "---\n",
    "title: \"Blog Post 2 : \"\n",
    "description: \" \"\n",
    "author: \"Ebunoluwa Akadiri\"\n",
    "date: \"2/27/2024\"\n",
    "categories:\n",
    "  - AI\n",
    "---"
   ]
  }
 ],
 "metadata": {
  "citation-manager": {
   "items": {}
  },
  "kernelspec": {
   "display_name": "Python 3.11 (COMM4190)",
   "language": "python",
   "name": "comm4190"
  },
  "language_info": {
   "codemirror_mode": {
    "name": "ipython",
    "version": 3
   },
   "file_extension": ".py",
   "mimetype": "text/x-python",
   "name": "python",
   "nbconvert_exporter": "python",
   "pygments_lexer": "ipython3",
   "version": "3.11.7"
  }
 },
 "nbformat": 4,
 "nbformat_minor": 5
}
