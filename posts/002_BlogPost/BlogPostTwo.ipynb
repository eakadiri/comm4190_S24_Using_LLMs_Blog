{
 "cells": [
  {
   "cell_type": "raw",
   "id": "1c5a9894-0bba-440c-a4ed-64c49a6c0ff8",
   "metadata": {},
   "source": [
    "---\n",
    "title: \"Blog Post 2 : Deepfakes in the Music Industry --- How Much is Too Much? \"\n",
    "description: \"Analyzing the usage of AI to impersonate musicians.\"\n",
    "author: \"Ebunoluwa Akadiri\"\n",
    "date: \"2/27/2024\"\n",
    "categories:\n",
    "  - AI\n",
    "  - Music \n",
    "  - Deepfakes \n",
    "---"
   ]
  },
  {
   "cell_type": "markdown",
   "id": "26370952-024a-4e0f-9a5c-2680b484e523",
   "metadata": {},
   "source": [
    "# Deepfakes in the Music Industry --- How Much is Too Much?\n",
    "\n",
    "Many of us are familiar with celebrity impersonators, people who make livings off their uncanny resemblances to celebrities. A good example of this is Izzy otherwise known as \"fake Drake\" who built a large following and made up to 5,000 for each event he appears at pretending to be Drake:\n",
    "\n",
    "![Image](fakedrake.jpg)\n",
    "\n",
    "However, AI has led to a new sort of technology, one that can be used to mimic the voices of certain celebrities, namely singers and rappers, on various songs.\n",
    "\n",
    "An example of this is Musicfy's Free Celebrity AI Voice Generator [Link](https://musicfy.lol/blog/musicfys-free-celebrity-ai-voice-generator).\n",
    "\n",
    "This generator claims to have access to the voices of over 3,000 celebrities from Donald Trump to Ariana Grande. The site claims that the ability to listen to any celebrity at any time creates the feeling of a personalized concerts.\n",
    "\n",
    "Here are some examples of some famous celebrities performing songs that are not their own:\n",
    "\n",
    "1. If Linkin' Park Made the Pokemon Theme Song\n",
    "\n",
    "[Link](https://youtu.be/CuCUdQ3xrEk?si=peYjSiGClDDK7Xx)\n",
    "\n",
    "2. Rihanna Singing Wonderwall by Oasis\n",
    "\n",
    "[Link](https://www.youtube.com/watch?v=K9wUPeIaIzo)\n",
    "\n",
    "3. Rihanna Singing Fast Car by Tracy Chapman\n",
    "\n",
    "[Link](https://www.youtube.com/watch?v=9q_lJ8c7ZUo)\n",
    "\n",
    "What's particularly interesting about this cover is it is distinctively out of key. As a musician, I can discern that she starts off in the correct key but each line after is in a different/wrong key. This makes it a bit easier to identify it as AI.\n",
    "\n",
    "Aside from the declination in quality, it is also important to consider the ethical dilemma that comes with attaching someone's voice to something they didn't say, or in this case sing. \n",
    "\n",
    "We've seen with political deepfakes how dangerous it can be to create videos of politicians saying or doing things they did not say or do in real life. It leads to an overall decline in quality of political information available and general mistrust of the government. In the case of music, not many labels and agencies have protected rights over their Artificial likeness which is what is allowing these websites to take the voices of celebrities and put them in different songs and contexts. \n",
    "\n",
    "It is important that artists protect their rights, but it is also important to recognize that we as consumers, shoukd try to consume ethical art, not art made artificially. \n",
    "\n",
    "\n",
    "\n"
   ]
  },
  {
   "cell_type": "code",
   "execution_count": null,
   "id": "dc5dedd8-b3da-4dec-9e11-c52ba6aa685f",
   "metadata": {},
   "outputs": [],
   "source": []
  },
  {
   "cell_type": "code",
   "execution_count": null,
   "id": "e12e924b-01b4-46a7-bf62-abdcbeb253cc",
   "metadata": {},
   "outputs": [],
   "source": []
  }
 ],
 "metadata": {
  "citation-manager": {
   "items": {}
  },
  "kernelspec": {
   "display_name": "Python 3.11 (COMM4190)",
   "language": "python",
   "name": "comm4190"
  },
  "language_info": {
   "codemirror_mode": {
    "name": "ipython",
    "version": 3
   },
   "file_extension": ".py",
   "mimetype": "text/x-python",
   "name": "python",
   "nbconvert_exporter": "python",
   "pygments_lexer": "ipython3",
   "version": "3.11.7"
  }
 },
 "nbformat": 4,
 "nbformat_minor": 5
}
