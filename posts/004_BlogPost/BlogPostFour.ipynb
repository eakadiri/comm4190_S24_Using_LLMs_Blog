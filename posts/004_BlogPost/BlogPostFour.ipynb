{
 "cells": [
  {
   "cell_type": "raw",
   "id": "28444807-6cb5-426d-9c33-a813c17aadff",
   "metadata": {},
   "source": [
    "---\n",
    "title: \"Miss AI - AI Models & Beauty Pageants\"\n",
    "description: \"Examining the inclusion of AI models in beauty pageants\"\n",
    "author: \"Ebunoluwa Akadiri\"\n",
    "date: \"4/28/2024\"\n",
    "categories:\n",
    "  - AI\n",
    "  - Beauty & Cosmetics  \n",
    "---"
   ]
  },
  {
   "cell_type": "markdown",
   "id": "ba78bc67-882a-4a50-a3f5-196231c63223",
   "metadata": {},
   "source": [
    "# Miss AI - AI Models & Beauty Pageants\n",
    "\n",
    "A company named Fanvue(1), a subscription based content creator platform recently teamed up with the World AI Creator Awards (WAiCA) to create the world's first \"Miss AI\" competition. In this competition, two humans and two virtual models with assess thousands of AI generated photos of women and choose one. \n",
    "\n",
    "![1. Fanvue's Logo](https://commjhub.asc.upenn.edu/user/eakadiri/files/comm4190_S24/comm4190_S24_Using_LLMs_Blog/posts/004_BlogPost/Fanvue.webp?_xsrf=2%7C045fa499%7C24e2f516190f952e4c68f246e8b7afc6%7C1714325228)\n",
    "\n",
    "The grand prize is a **20,000 cash prize** and a chance to monetize their artificial woman on Fanvue. \n",
    "\n",
    "WAICA has claimed to be extremely proud of this accomplishment,  labeling it as a leap forward in their history of conducting beauty pageants. However, many people have issues with this mindset, including me.\n",
    "\n",
    "Many AI models recycle the beauty standards that are present within our society. This means that the models are more likely to reflect the physical ideals that living in a patriarchy reflects. \n",
    "\n",
    "For example, one of the models that are judging the competition is Emily Pellegrini(2). Her creator created her by asking ChatGPT what the average man's dream girl was and designing her off the lines of \"long hair, flawless skin, and a perfect body.\" Though she is not real, she makes thousands of dollars off Fanvue and has real men foaming at the mouth for a chance to speak/interact with her. \n",
    "\n",
    "![2 - Emily Pelligrini](https://commjhub.asc.upenn.edu/user/eakadiri/files/comm4190_S24/comm4190_S24_Using_LLMs_Blog/posts/004_BlogPost/emily_pelligrini.jpeg?_xsrf=2%7C045fa499%7C24e2f516190f952e4c68f246e8b7afc6%7C1714325228)\n",
    "\n",
    "However, this is not reflective of what many women look like in reality and only furthers the idea that women must have a certain look or appearance to be viewed as beautiful.\n",
    "\n",
    "Furthermore, what does this mean for the modeling industry?\n",
    "\n",
    "By making fake AI models to replace real women, companies save money, but forego considerations about pushing unrealistic beauty standards to sometimes young and impressionable audiences. \n",
    "\n",
    "The creators claim that they expect the competition to be very inclusive, but the very of a contest rating the beauty of women that aren't real serves to be at the very least, confusing and posing to have a real world impact on the way women are viewed and perceived.  \n"
   ]
  },
  {
   "cell_type": "markdown",
   "id": "13ca5d02-cc2b-4db4-809e-910ddfbd990d",
   "metadata": {},
   "source": [
    "Source: [Link](https://www.theguardian.com/commentisfree/2024/apr/23/miss-ai-artificial-intelligence-models-gendered-beauty-norms)"
   ]
  },
  {
   "cell_type": "code",
   "execution_count": null,
   "id": "edd0752e-00b7-4b5e-a7ad-7ea597b9e954",
   "metadata": {},
   "outputs": [],
   "source": []
  }
 ],
 "metadata": {
  "citation-manager": {
   "items": {}
  },
  "kernelspec": {
   "display_name": "Python 3.11 (COMM4190)",
   "language": "python",
   "name": "comm4190"
  },
  "language_info": {
   "codemirror_mode": {
    "name": "ipython",
    "version": 3
   },
   "file_extension": ".py",
   "mimetype": "text/x-python",
   "name": "python",
   "nbconvert_exporter": "python",
   "pygments_lexer": "ipython3",
   "version": "3.11.7"
  }
 },
 "nbformat": 4,
 "nbformat_minor": 5
}
