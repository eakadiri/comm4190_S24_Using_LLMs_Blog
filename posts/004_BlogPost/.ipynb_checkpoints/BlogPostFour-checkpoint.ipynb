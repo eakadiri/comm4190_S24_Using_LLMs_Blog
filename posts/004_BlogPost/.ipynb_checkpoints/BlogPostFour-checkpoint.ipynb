{
 "cells": [
  {
   "cell_type": "raw",
   "id": "28444807-6cb5-426d-9c33-a813c17aadff",
   "metadata": {},
   "source": [
    "---\n",
    "title: \"Blog Post 4 : Miss AI - AI Models & Beauty Pageants\"\n",
    "description: \"Examining the inclusion of AI models in beauty pageants\"\n",
    "author: \"Ebunoluwa Akadiri\"\n",
    "date: \"4/28/2024\"\n",
    "categories:\n",
    "  - AI\n",
    "  - Beauty & Cosmetics  \n",
    "---"
   ]
  },
  {
   "cell_type": "markdown",
   "id": "ba78bc67-882a-4a50-a3f5-196231c63223",
   "metadata": {},
   "source": [
    "# Miss AI - AI Models & Beauty Pageants\n",
    "\n",
    "A company named Fanvue(1), a subscription based \n",
    "\n",
    "\n",
    "![Fanvue's Logo](https://commjhub.asc.upenn.edu/user/eakadiri/files/comm4190_S24/comm4190_S24_Using_LLMs_Blog/posts/004_BlogPost/Fanvue.webp?_xsrf=2%7C045fa499%7C24e2f516190f952e4c68f246e8b7afc6%7C1714325228)"
   ]
  }
 ],
 "metadata": {
  "citation-manager": {
   "items": {}
  },
  "kernelspec": {
   "display_name": "Python 3.11 (COMM4190)",
   "language": "python",
   "name": "comm4190"
  },
  "language_info": {
   "codemirror_mode": {
    "name": "ipython",
    "version": 3
   },
   "file_extension": ".py",
   "mimetype": "text/x-python",
   "name": "python",
   "nbconvert_exporter": "python",
   "pygments_lexer": "ipython3",
   "version": "3.11.7"
  }
 },
 "nbformat": 4,
 "nbformat_minor": 5
}
