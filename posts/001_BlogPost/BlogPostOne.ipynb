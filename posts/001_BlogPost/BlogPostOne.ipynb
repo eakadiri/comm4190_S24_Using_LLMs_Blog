{
 "cells": [
  {
   "cell_type": "raw",
   "id": "5380f0bb-1960-4258-a4f9-6c4ae3756255",
   "metadata": {},
   "source": [
    "---\n",
    "title: \"Blog Post One\"\n",
    "description: \"n/a\"\n",
    "author: \"favour\"\n",
    "date: \"2/26/2024\"\n",
    "categories:\n",
    "  - AI \n",
    "---"
   ]
  },
  {
   "cell_type": "markdown",
   "id": "2e7836a9-d6bf-4d45-8c1f-4b0891393d85",
   "metadata": {},
   "source": [
    "# Test Case\n",
    "\n",
    "![](Image1.JPG)\n"
   ]
  },
  {
   "cell_type": "code",
   "execution_count": null,
   "id": "8e15ef2b-6d06-4193-9f95-34adff9c2465",
   "metadata": {},
   "outputs": [],
   "source": []
  }
 ],
 "metadata": {
  "citation-manager": {
   "items": {}
  },
  "kernelspec": {
   "display_name": "Python 3.11 (COMM4190)",
   "language": "python",
   "name": "comm4190"
  },
  "language_info": {
   "codemirror_mode": {
    "name": "ipython",
    "version": 3
   },
   "file_extension": ".py",
   "mimetype": "text/x-python",
   "name": "python",
   "nbconvert_exporter": "python",
   "pygments_lexer": "ipython3",
   "version": "3.11.7"
  }
 },
 "nbformat": 4,
 "nbformat_minor": 5
}
